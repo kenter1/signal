{
 "cells": [
  {
   "cell_type": "markdown",
   "metadata": {},
   "source": [
    "### Goal: Generate Images and labels for training"
   ]
  },
  {
   "cell_type": "code",
   "execution_count": 1,
   "metadata": {},
   "outputs": [],
   "source": [
    "import pandas as pd"
   ]
  },
  {
   "cell_type": "code",
   "execution_count": 2,
   "metadata": {},
   "outputs": [],
   "source": [
    "filepath = r\"C:\\Users\\ken\\Desktop\\OneDrive\\OneDrive - Knights - University of Central Florida\\UCF Spring 2019\\Machine Learning\\data\"\n",
    "filename = r\"\\Yahoo_S&P500_2004-2019.csv\""
   ]
  },
  {
   "cell_type": "code",
   "execution_count": 3,
   "metadata": {},
   "outputs": [],
   "source": [
    "df = pd.read_csv(filepath+filename)\n",
    "#df[\"date\"] = pd.to_datetime(df[\"date\"])\n",
    "df[\"date\"] = pd.to_datetime(df[\"Date\"])\n",
    "df = df.set_index('date')"
   ]
  },
  {
   "cell_type": "code",
   "execution_count": 4,
   "metadata": {},
   "outputs": [
    {
     "data": {
      "text/html": [
       "<div>\n",
       "<style scoped>\n",
       "    .dataframe tbody tr th:only-of-type {\n",
       "        vertical-align: middle;\n",
       "    }\n",
       "\n",
       "    .dataframe tbody tr th {\n",
       "        vertical-align: top;\n",
       "    }\n",
       "\n",
       "    .dataframe thead th {\n",
       "        text-align: right;\n",
       "    }\n",
       "</style>\n",
       "<table border=\"1\" class=\"dataframe\">\n",
       "  <thead>\n",
       "    <tr style=\"text-align: right;\">\n",
       "      <th></th>\n",
       "      <th>Date</th>\n",
       "      <th>Open</th>\n",
       "      <th>High</th>\n",
       "      <th>Low</th>\n",
       "      <th>Close</th>\n",
       "      <th>Adj Close</th>\n",
       "      <th>Volume</th>\n",
       "    </tr>\n",
       "    <tr>\n",
       "      <th>date</th>\n",
       "      <th></th>\n",
       "      <th></th>\n",
       "      <th></th>\n",
       "      <th></th>\n",
       "      <th></th>\n",
       "      <th></th>\n",
       "      <th></th>\n",
       "    </tr>\n",
       "  </thead>\n",
       "  <tbody>\n",
       "    <tr>\n",
       "      <th>2004-01-02</th>\n",
       "      <td>2004-01-02</td>\n",
       "      <td>1111.920044</td>\n",
       "      <td>1118.849976</td>\n",
       "      <td>1105.079956</td>\n",
       "      <td>1108.479980</td>\n",
       "      <td>1108.479980</td>\n",
       "      <td>1153200000</td>\n",
       "    </tr>\n",
       "    <tr>\n",
       "      <th>2004-01-05</th>\n",
       "      <td>2004-01-05</td>\n",
       "      <td>1108.479980</td>\n",
       "      <td>1122.219971</td>\n",
       "      <td>1108.479980</td>\n",
       "      <td>1122.219971</td>\n",
       "      <td>1122.219971</td>\n",
       "      <td>1578200000</td>\n",
       "    </tr>\n",
       "    <tr>\n",
       "      <th>2004-01-06</th>\n",
       "      <td>2004-01-06</td>\n",
       "      <td>1122.219971</td>\n",
       "      <td>1124.459961</td>\n",
       "      <td>1118.439941</td>\n",
       "      <td>1123.670044</td>\n",
       "      <td>1123.670044</td>\n",
       "      <td>1494500000</td>\n",
       "    </tr>\n",
       "    <tr>\n",
       "      <th>2004-01-07</th>\n",
       "      <td>2004-01-07</td>\n",
       "      <td>1123.670044</td>\n",
       "      <td>1126.329956</td>\n",
       "      <td>1116.449951</td>\n",
       "      <td>1126.329956</td>\n",
       "      <td>1126.329956</td>\n",
       "      <td>1704900000</td>\n",
       "    </tr>\n",
       "    <tr>\n",
       "      <th>2004-01-08</th>\n",
       "      <td>2004-01-08</td>\n",
       "      <td>1126.329956</td>\n",
       "      <td>1131.920044</td>\n",
       "      <td>1124.910034</td>\n",
       "      <td>1131.920044</td>\n",
       "      <td>1131.920044</td>\n",
       "      <td>1868400000</td>\n",
       "    </tr>\n",
       "  </tbody>\n",
       "</table>\n",
       "</div>"
      ],
      "text/plain": [
       "                  Date         Open         High          Low        Close  \\\n",
       "date                                                                         \n",
       "2004-01-02  2004-01-02  1111.920044  1118.849976  1105.079956  1108.479980   \n",
       "2004-01-05  2004-01-05  1108.479980  1122.219971  1108.479980  1122.219971   \n",
       "2004-01-06  2004-01-06  1122.219971  1124.459961  1118.439941  1123.670044   \n",
       "2004-01-07  2004-01-07  1123.670044  1126.329956  1116.449951  1126.329956   \n",
       "2004-01-08  2004-01-08  1126.329956  1131.920044  1124.910034  1131.920044   \n",
       "\n",
       "              Adj Close      Volume  \n",
       "date                                 \n",
       "2004-01-02  1108.479980  1153200000  \n",
       "2004-01-05  1122.219971  1578200000  \n",
       "2004-01-06  1123.670044  1494500000  \n",
       "2004-01-07  1126.329956  1704900000  \n",
       "2004-01-08  1131.920044  1868400000  "
      ]
     },
     "execution_count": 4,
     "metadata": {},
     "output_type": "execute_result"
    }
   ],
   "source": [
    "df.head()"
   ]
  },
  {
   "cell_type": "code",
   "execution_count": 5,
   "metadata": {},
   "outputs": [
    {
     "data": {
      "text/plain": [
       "(3816, 7)"
      ]
     },
     "execution_count": 5,
     "metadata": {},
     "output_type": "execute_result"
    }
   ],
   "source": [
    " df.shape"
   ]
  },
  {
   "cell_type": "code",
   "execution_count": 6,
   "metadata": {},
   "outputs": [],
   "source": [
    "import numpy as np\n",
    "\n",
    "def to_sequences(seq_size, seq_size_out, obs):\n",
    "    x = []\n",
    "    y = []\n",
    "    y_label = []\n",
    "    \n",
    "    for i in range(len(obs)-seq_size-seq_size_out-1):\n",
    "        window = obs[i:(i+seq_size)]\n",
    "        after_window = obs[(i+seq_size):(i+seq_size+seq_size_out)]\n",
    "        window = [[x] for x in window]\n",
    "        after_window = [[y] for y in after_window]\n",
    "        \n",
    "        x.append(window)\n",
    "        y.append(after_window)\n",
    "        \n",
    "        \n",
    "        average = 0\n",
    "        for j in range(seq_size_out):\n",
    "            average += y[0][j][0][4]\n",
    "        \n",
    "        average = average/seq_size_out\n",
    "        y_label.append(average)\n",
    "        \n",
    "    return np.array(x), np.array(y),np.array(y_label)"
   ]
  },
  {
   "cell_type": "code",
   "execution_count": 7,
   "metadata": {},
   "outputs": [],
   "source": [
    "x, y, yMean = to_sequences(30, 7,df.values)"
   ]
  },
  {
   "cell_type": "code",
   "execution_count": 8,
   "metadata": {},
   "outputs": [],
   "source": [
    "\"\"\"\n",
    "    Generates a list of values which corresponds to \n",
    "    sell - 0\n",
    "    hold - 1\n",
    "    buy  - 2\n",
    "    \n",
    "    Algorithm\n",
    "    Latest price + percentThreshold% > predicted yMean Upward movement : Action buy\n",
    "    Predicted yMean < 1% gain or loss : Action hold\n",
    "    Latest price + percentThreshold% > predicted yMean Downward movement : Action sell\n",
    "\"\"\"\n",
    "def threshhold(x, yMean, percentThreshold):\n",
    "    size = len(yMean)\n",
    "    y = []\n",
    "        \n",
    "    for i in range(size):\n",
    "        percentVal = x[i][-1][0][4] * percentThreshold\n",
    "        change = yMean[i] - x[i][-1][0][4]\n",
    "        #Positive change means price went up and negative means price went down\n",
    "        if(abs(change) > percentVal):\n",
    "            if(change > 0):\n",
    "                y.append(2)\n",
    "            else:\n",
    "                y.append(0)\n",
    "        else:\n",
    "            y.append(1)\n",
    "\n",
    "    return np.array(y)"
   ]
  },
  {
   "cell_type": "code",
   "execution_count": 9,
   "metadata": {},
   "outputs": [],
   "source": [
    "y_new = threshhold(x, yMean, .01)"
   ]
  },
  {
   "cell_type": "code",
   "execution_count": 10,
   "metadata": {},
   "outputs": [],
   "source": [
    "y_df = pd.DataFrame({\"label\":y_new})\n",
    "y_df = y_df.rename(columns={\"0\":'label'})\n",
    "y_df.to_csv(r'E:\\Data\\S&P500\\label.csv')"
   ]
  },
  {
   "cell_type": "code",
   "execution_count": 11,
   "metadata": {},
   "outputs": [
    {
     "data": {
      "text/plain": [
       "(3778, 1)"
      ]
     },
     "execution_count": 11,
     "metadata": {},
     "output_type": "execute_result"
    }
   ],
   "source": [
    "y_df.shape"
   ]
  },
  {
   "cell_type": "code",
   "execution_count": 12,
   "metadata": {},
   "outputs": [
    {
     "data": {
      "text/plain": [
       "(3778, 30, 1, 7)"
      ]
     },
     "execution_count": 12,
     "metadata": {},
     "output_type": "execute_result"
    }
   ],
   "source": [
    "x.shape"
   ]
  },
  {
   "cell_type": "code",
   "execution_count": 35,
   "metadata": {},
   "outputs": [],
   "source": [
    "test = x[0].reshape(30,7)"
   ]
  },
  {
   "cell_type": "code",
   "execution_count": 36,
   "metadata": {},
   "outputs": [
    {
     "data": {
      "text/html": [
       "<div>\n",
       "<style scoped>\n",
       "    .dataframe tbody tr th:only-of-type {\n",
       "        vertical-align: middle;\n",
       "    }\n",
       "\n",
       "    .dataframe tbody tr th {\n",
       "        vertical-align: top;\n",
       "    }\n",
       "\n",
       "    .dataframe thead th {\n",
       "        text-align: right;\n",
       "    }\n",
       "</style>\n",
       "<table border=\"1\" class=\"dataframe\">\n",
       "  <thead>\n",
       "    <tr style=\"text-align: right;\">\n",
       "      <th></th>\n",
       "      <th>date</th>\n",
       "      <th>open</th>\n",
       "      <th>high</th>\n",
       "      <th>low</th>\n",
       "      <th>close</th>\n",
       "      <th>adj close</th>\n",
       "      <th>volume</th>\n",
       "    </tr>\n",
       "  </thead>\n",
       "  <tbody>\n",
       "    <tr>\n",
       "      <th>0</th>\n",
       "      <td>2004-01-02</td>\n",
       "      <td>1111.92</td>\n",
       "      <td>1118.85</td>\n",
       "      <td>1105.08</td>\n",
       "      <td>1108.48</td>\n",
       "      <td>1108.48</td>\n",
       "      <td>1153200000</td>\n",
       "    </tr>\n",
       "    <tr>\n",
       "      <th>1</th>\n",
       "      <td>2004-01-05</td>\n",
       "      <td>1108.48</td>\n",
       "      <td>1122.22</td>\n",
       "      <td>1108.48</td>\n",
       "      <td>1122.22</td>\n",
       "      <td>1122.22</td>\n",
       "      <td>1578200000</td>\n",
       "    </tr>\n",
       "    <tr>\n",
       "      <th>2</th>\n",
       "      <td>2004-01-06</td>\n",
       "      <td>1122.22</td>\n",
       "      <td>1124.46</td>\n",
       "      <td>1118.44</td>\n",
       "      <td>1123.67</td>\n",
       "      <td>1123.67</td>\n",
       "      <td>1494500000</td>\n",
       "    </tr>\n",
       "    <tr>\n",
       "      <th>3</th>\n",
       "      <td>2004-01-07</td>\n",
       "      <td>1123.67</td>\n",
       "      <td>1126.33</td>\n",
       "      <td>1116.45</td>\n",
       "      <td>1126.33</td>\n",
       "      <td>1126.33</td>\n",
       "      <td>1704900000</td>\n",
       "    </tr>\n",
       "    <tr>\n",
       "      <th>4</th>\n",
       "      <td>2004-01-08</td>\n",
       "      <td>1126.33</td>\n",
       "      <td>1131.92</td>\n",
       "      <td>1124.91</td>\n",
       "      <td>1131.92</td>\n",
       "      <td>1131.92</td>\n",
       "      <td>1868400000</td>\n",
       "    </tr>\n",
       "  </tbody>\n",
       "</table>\n",
       "</div>"
      ],
      "text/plain": [
       "        date     open     high      low    close adj close      volume\n",
       "0 2004-01-02  1111.92  1118.85  1105.08  1108.48   1108.48  1153200000\n",
       "1 2004-01-05  1108.48  1122.22  1108.48  1122.22   1122.22  1578200000\n",
       "2 2004-01-06  1122.22  1124.46  1118.44  1123.67   1123.67  1494500000\n",
       "3 2004-01-07  1123.67  1126.33  1116.45  1126.33   1126.33  1704900000\n",
       "4 2004-01-08  1126.33  1131.92  1124.91  1131.92   1131.92  1868400000"
      ]
     },
     "execution_count": 36,
     "metadata": {},
     "output_type": "execute_result"
    }
   ],
   "source": [
    "columns = ['date','open','high','low','close','adj close', 'volume']\n",
    "df = pd.DataFrame(test,columns=columns)\n",
    "df[\"date\"] = pd.to_datetime(df[\"date\"])\n",
    "df.head()"
   ]
  },
  {
   "cell_type": "code",
   "execution_count": 26,
   "metadata": {},
   "outputs": [],
   "source": [
    "x[0][-1][0][0]\n",
    "dates = []\n",
    "for i in range(x.shape[0]):\n",
    "    dates.append(x[i][-1][0][0])\n",
    "    \n",
    "dates = np.array(dates)"
   ]
  },
  {
   "cell_type": "code",
   "execution_count": 28,
   "metadata": {},
   "outputs": [
    {
     "data": {
      "text/html": [
       "<div>\n",
       "<style scoped>\n",
       "    .dataframe tbody tr th:only-of-type {\n",
       "        vertical-align: middle;\n",
       "    }\n",
       "\n",
       "    .dataframe tbody tr th {\n",
       "        vertical-align: top;\n",
       "    }\n",
       "\n",
       "    .dataframe thead th {\n",
       "        text-align: right;\n",
       "    }\n",
       "</style>\n",
       "<table border=\"1\" class=\"dataframe\">\n",
       "  <thead>\n",
       "    <tr style=\"text-align: right;\">\n",
       "      <th></th>\n",
       "      <th>label</th>\n",
       "      <th>dates</th>\n",
       "    </tr>\n",
       "  </thead>\n",
       "  <tbody>\n",
       "    <tr>\n",
       "      <th>0</th>\n",
       "      <td>1</td>\n",
       "      <td>2004-02-13</td>\n",
       "    </tr>\n",
       "    <tr>\n",
       "      <th>1</th>\n",
       "      <td>1</td>\n",
       "      <td>2004-02-17</td>\n",
       "    </tr>\n",
       "    <tr>\n",
       "      <th>2</th>\n",
       "      <td>1</td>\n",
       "      <td>2004-02-18</td>\n",
       "    </tr>\n",
       "    <tr>\n",
       "      <th>3</th>\n",
       "      <td>1</td>\n",
       "      <td>2004-02-19</td>\n",
       "    </tr>\n",
       "    <tr>\n",
       "      <th>4</th>\n",
       "      <td>1</td>\n",
       "      <td>2004-02-20</td>\n",
       "    </tr>\n",
       "  </tbody>\n",
       "</table>\n",
       "</div>"
      ],
      "text/plain": [
       "   label       dates\n",
       "0      1  2004-02-13\n",
       "1      1  2004-02-17\n",
       "2      1  2004-02-18\n",
       "3      1  2004-02-19\n",
       "4      1  2004-02-20"
      ]
     },
     "execution_count": 28,
     "metadata": {},
     "output_type": "execute_result"
    }
   ],
   "source": [
    "y_df['dates'] = dates\n",
    "y_df.to_csv(r'E:\\Data\\S&P500\\label.csv')\n",
    "y_df.head()"
   ]
  },
  {
   "cell_type": "code",
   "execution_count": 25,
   "metadata": {},
   "outputs": [
    {
     "data": {
      "text/plain": [
       "label             0\n",
       "dates    2018-12-12\n",
       "Name: 3733, dtype: object"
      ]
     },
     "execution_count": 25,
     "metadata": {},
     "output_type": "execute_result"
    }
   ],
   "source": [
    "y_df.iloc[3733]"
   ]
  },
  {
   "cell_type": "code",
   "execution_count": 14,
   "metadata": {},
   "outputs": [],
   "source": [
    "from math import pi\n",
    "import pandas as pd\n",
    "from bokeh.plotting import figure, show, output_file\n",
    "from bokeh.io import export_png\n",
    "\n",
    "def createAndSavePlot(df, location = r\"E:\\Data\\S&P500\", filename = r\"\\plot.png\", plot_height=100,plot_width=200):\n",
    "    inc = df.close > df.open\n",
    "    dec = df.open > df.close\n",
    "    w = 12*60*60*1000 # half day in ms\n",
    "\n",
    "    #TOOLS = \"pan,wheel_zoom,box_zoom,reset,save\"\n",
    "\n",
    "    p = figure(x_axis_type=\"datetime\", plot_height=100,plot_width=200)\n",
    "    #p.xaxis.major_label_orientation = pi/4\n",
    "    #p.grid.grid_line_alpha=0.3\n",
    "\n",
    "    p.segment(df.date, df.high, df.date, df.low, color=\"black\")\n",
    "    p.vbar(df.date[inc], w, df.open[inc], df.close[inc], fill_color=\"#D5E1DD\", line_color=\"black\")\n",
    "    p.vbar(df.date[dec], w, df.open[dec], df.close[dec], fill_color=\"#F2583E\", line_color=\"black\")\n",
    "\n",
    "    p.toolbar.logo = None\n",
    "    p.toolbar_location = None\n",
    "\n",
    "    p.xaxis.major_tick_line_color = None  # turn off x-axis major ticks\n",
    "    p.xaxis.minor_tick_line_color = None  # turn off x-axis minor ticks\n",
    "    p.yaxis.major_tick_line_color = None  # turn off y-axis major ticks\n",
    "    p.yaxis.minor_tick_line_color = None  # turn off y-axis minor ticks\n",
    "    p.xaxis.major_label_text_color = None  #note that this leaves space between the axis and the axis label  \n",
    "    p.yaxis.major_label_text_color = None  #note that this leaves space between the axis and the axis label\n",
    "\n",
    "    export_png(p, filename= location+filename)"
   ]
  },
  {
   "cell_type": "code",
   "execution_count": 57,
   "metadata": {},
   "outputs": [],
   "source": [
    "location = r\"E:\\Data\\S&P500\"\n",
    "\n",
    "for i in range(y_df.shape[0]):\n",
    "    temp = x[i].reshape(30,7)\n",
    "    columns = ['date','open','high','low','close','adj close', 'volume']\n",
    "    df = pd.DataFrame(temp,columns=columns)\n",
    "    df[\"date\"] = pd.to_datetime(df[\"date\"])\n",
    "        \n",
    "    filename= r\"\\{}.png\".format(str(df.iloc[-1].date)[:10])\n",
    "    createAndSavePlot(df, location,filename)"
   ]
  },
  {
   "cell_type": "code",
   "execution_count": 19,
   "metadata": {},
   "outputs": [
    {
     "data": {
      "text/plain": [
       "'C:\\\\Users\\\\ken\\\\Desktop\\\\OneDrive\\\\OneDrive - Knights - University of Central Florida\\\\UCF Spring 2019\\\\Machine Learning\\\\signal\\\\plot.png'"
      ]
     },
     "execution_count": 19,
     "metadata": {},
     "output_type": "execute_result"
    }
   ],
   "source": [
    "inc = df.close > df.open\n",
    "dec = df.open > df.close\n",
    "w = 12*60*60*1000 # half day in ms\n",
    "\n",
    "#TOOLS = \"pan,wheel_zoom,box_zoom,reset,save\"\n",
    "\n",
    "p = figure(x_axis_type=\"datetime\", plot_height=100,plot_width=200)\n",
    "#p.xaxis.major_label_orientation = pi/4\n",
    "#p.grid.grid_line_alpha=0.3\n",
    "\n",
    "p.segment(df.date, df.high, df.date, df.low, color=\"black\")\n",
    "p.vbar(df.date[inc], w, df.open[inc], df.close[inc], fill_color=\"#D5E1DD\", line_color=\"black\")\n",
    "p.vbar(df.date[dec], w, df.open[dec], df.close[dec], fill_color=\"#F2583E\", line_color=\"black\")\n",
    "\n",
    "p.toolbar.logo = None\n",
    "p.toolbar_location = None\n",
    "\n",
    "p.xaxis.major_tick_line_color = None  # turn off x-axis major ticks\n",
    "p.xaxis.minor_tick_line_color = None  # turn off x-axis minor ticks\n",
    "p.yaxis.major_tick_line_color = None  # turn off y-axis major ticks\n",
    "p.yaxis.minor_tick_line_color = None  # turn off y-axis minor ticks\n",
    "p.xaxis.major_label_text_color = None  #note that this leaves space between the axis and the axis label  \n",
    "p.yaxis.major_label_text_color = None  #note that this leaves space between the axis and the axis label\n",
    "\n",
    "export_png(p, filename=\"plot.png\")"
   ]
  }
 ],
 "metadata": {
  "kernelspec": {
   "display_name": "Python 3",
   "language": "python",
   "name": "python3"
  },
  "language_info": {
   "codemirror_mode": {
    "name": "ipython",
    "version": 3
   },
   "file_extension": ".py",
   "mimetype": "text/x-python",
   "name": "python",
   "nbconvert_exporter": "python",
   "pygments_lexer": "ipython3",
   "version": "3.6.8"
  }
 },
 "nbformat": 4,
 "nbformat_minor": 2
}
